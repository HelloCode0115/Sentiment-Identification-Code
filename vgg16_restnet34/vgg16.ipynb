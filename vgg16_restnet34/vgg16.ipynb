{
 "cells": [
  {
   "cell_type": "code",
   "execution_count": 1,
   "metadata": {},
   "outputs": [],
   "source": [
    "import torchvision\n",
    "from __future__ import print_function, division\n",
    "import torchvision\n",
    "import torchvision.transforms as transforms\n",
    "from torch.utils.data import DataLoader\n",
    "import torch.nn as nn\n",
    "import torch\n",
    "import torch.nn.functional as F\n",
    "import os\n",
    "from tqdm import tqdm\n",
    "\n",
    "from torch.optim.lr_scheduler import ReduceLROnPlateau\n",
    "from torchvision.models import vgg16\n",
    "from sklearn.metrics import accuracy_score"
   ]
  },
  {
   "cell_type": "code",
   "execution_count": 2,
   "metadata": {},
   "outputs": [],
   "source": [
    "class ImageEmotionModel(nn.Module):\n",
    "    def __init__(self, num_classes=6, feature_extractor=vgg16):\n",
    "        super(ImageEmotionModel, self).__init__()\n",
    "        # 使用预训练模型作为特征提取器\n",
    "        self.feature_extractor = feature_extractor(pretrained=True)\n",
    "        # 需要注意的是，这里可能会冻结部分层不参与训练\n",
    "        for param in self.feature_extractor.parameters():\n",
    "            param.requires_grad = False # 或者只冻结某些层\n",
    "\n",
    "        # 添加新的全连接层用于情感分类\n",
    "        self.classifier = nn.Sequential(\n",
    "            nn.Linear(25088, 4096),\n",
    "            nn.ReLU(),\n",
    "            nn.Linear(4096, 1000),\n",
    "            nn.ReLU(),\n",
    "            nn.Linear(1000, num_classes),\n",
    "            )\n",
    "\n",
    "    def forward(self, x):\n",
    "        x=self.feature_extractor.features(x)\n",
    "        x=nn.Flatten(-3)(x)\n",
    "        x=self.classifier(x)\n",
    "        return x\n"
   ]
  },
  {
   "cell_type": "code",
   "execution_count": 3,
   "metadata": {},
   "outputs": [
    {
     "name": "stdout",
     "output_type": "stream",
     "text": [
      "总数据集的长度为：1980\n"
     ]
    }
   ],
   "source": [
    "train_transform = transforms.Compose([\n",
    "        transforms.Resize(250),\n",
    "        transforms.RandomResizedCrop(224),\n",
    "        transforms.RandomHorizontalFlip(),\n",
    "        transforms.ToTensor(),\n",
    "        # transforms.Normalize([0.485, 0.456, 0.406], [0.229, 0.224, 0.225])\n",
    "    ])\n",
    "\n",
    "full_dataset =torchvision.datasets.ImageFolder(root='images',transform=train_transform)\n",
    "\n",
    "# length 数据集总长度\n",
    "full_data_size = len(full_dataset)\n",
    "print(\"总数据集的长度为：{}\".format(full_data_size))\n",
    "\n",
    "train_size = int(0.8 * len(full_dataset))\n",
    "test_size = len(full_dataset) - train_size\n",
    "train_dataset, test_dataset = torch.utils.data.random_split(\n",
    "    full_dataset, [train_size, test_size])"
   ]
  },
  {
   "cell_type": "code",
   "execution_count": 4,
   "metadata": {},
   "outputs": [],
   "source": [
    "# torch.save(train_dataset, 'train_dataset1.pkl')\n",
    "# torch.save(test_dataset, 'test_dataset1.pkl')"
   ]
  },
  {
   "cell_type": "code",
   "execution_count": 5,
   "metadata": {},
   "outputs": [
    {
     "name": "stdout",
     "output_type": "stream",
     "text": [
      "99 79\n"
     ]
    }
   ],
   "source": [
    "train_dataset=torch.load('train_dataset1.pkl')\n",
    "test_dataset=torch.load('test_dataset1.pkl')\n",
    "\n",
    "train_loader = DataLoader(dataset=train_dataset, batch_size=16,\n",
    "                          shuffle=True, num_workers=0, drop_last=True)\n",
    "test_loader = DataLoader(dataset=test_dataset, batch_size=5,\n",
    "                         shuffle=True, num_workers=0, drop_last=True)\n",
    "\n",
    "train_data_size = len(train_loader)\n",
    "test_data_size = len(test_loader)\n",
    "print(train_data_size, test_data_size)"
   ]
  },
  {
   "cell_type": "code",
   "execution_count": 6,
   "metadata": {},
   "outputs": [
    {
     "data": {
      "text/plain": [
       "81"
      ]
     },
     "execution_count": 6,
     "metadata": {},
     "output_type": "execute_result"
    }
   ],
   "source": [
    "Epoch_path = \"Epoch1.txt\"\n",
    "\n",
    "def get_epoch(path):\n",
    "    if not os.path.exists(path): \n",
    "        Epoch_file=open(path, \"w\")\n",
    "        Epoch_file.write(\"-1\")\n",
    "        Epoch_file.close()\n",
    "    Epoch_file=open(path, \"r\")\n",
    "    s=Epoch_file.readline()\n",
    "    Epoch_file.close()\n",
    "    return int(s)+1\n",
    "\n",
    "def set_epoch(path):\n",
    "    if not os.path.exists(path): \n",
    "        Epoch_file=open(path, \"w\")\n",
    "        Epoch_file.write(\"-1\")\n",
    "        Epoch_file.close()\n",
    "    Epoch_file=open(path, \"r\")\n",
    "    s=Epoch_file.readline()\n",
    "    Epoch_file.close()\n",
    "    Epoch_file=open(path, \"w\")\n",
    "    Epoch_file.write(str(int(s)+1))\n",
    "    Epoch_file.close()\n",
    "# print(get_epoch(\"Epoch.txt\"))\n",
    "# set_epoch(\"Epoch.txt\")\n",
    "get_epoch(Epoch_path)"
   ]
  },
  {
   "cell_type": "code",
   "execution_count": 7,
   "metadata": {},
   "outputs": [
    {
     "name": "stderr",
     "output_type": "stream",
     "text": [
      "c:\\software\\ai\\conda\\envs\\310\\lib\\site-packages\\torchvision\\models\\_utils.py:208: UserWarning: The parameter 'pretrained' is deprecated since 0.13 and may be removed in the future, please use 'weights' instead.\n",
      "  warnings.warn(\n",
      "c:\\software\\ai\\conda\\envs\\310\\lib\\site-packages\\torchvision\\models\\_utils.py:223: UserWarning: Arguments other than a weight enum or `None` for 'weights' are deprecated since 0.13 and may be removed in the future. The current behavior is equivalent to passing `weights=VGG16_Weights.IMAGENET1K_V1`. You can also use `weights=VGG16_Weights.DEFAULT` to get the most up-to-date weights.\n",
      "  warnings.warn(msg)\n"
     ]
    }
   ],
   "source": [
    "device = torch.device(\"cuda:0\" if torch.cuda.is_available() else \"cpu\")\n",
    "model= ImageEmotionModel()\n",
    "model.to(device)\n",
    "model.train()\n",
    "model_test = ImageEmotionModel()\n",
    "model_test.to(device)\n",
    "model_test.eval()\n",
    "pass"
   ]
  },
  {
   "cell_type": "code",
   "execution_count": 8,
   "metadata": {},
   "outputs": [
    {
     "name": "stderr",
     "output_type": "stream",
     "text": [
      "train: 100%|██████████| 40/40 [15:13<00:00, 22.85s/epoch]\n"
     ]
    }
   ],
   "source": [
    "optimizer = torch.optim.SGD(model.parameters(), lr=0.0001)\n",
    "scheduler = ReduceLROnPlateau(optimizer, mode='min', factor=0.1, patience=2, verbose=False, threshold=0.00001, threshold_mode='rel', cooldown=0, min_lr=0, eps=1e-08)\n",
    "ture_epoch = get_epoch(Epoch_path)\n",
    "if ture_epoch > 0:\n",
    "    model.load_state_dict(torch.load(f'weights1/{ture_epoch-1}_model.pth'))\n",
    "    optimizer.load_state_dict(torch.load(\n",
    "        f'weights1/{ture_epoch-1}_optimizer.pth'))\n",
    "loss_function = nn.CrossEntropyLoss()\n",
    "\n",
    "\n",
    "\n",
    "Epoch = 40\n",
    "for epoch in tqdm(range(Epoch), desc=\"train\",unit='epoch'):\n",
    "    loss_all=None\n",
    "    log_loss = open(\"log1.csv\", \"a\")\n",
    "    ture_epoch = get_epoch(Epoch_path)\n",
    "    loss_sum = 0\n",
    "    st = 0\n",
    "    for x, y in train_loader: \n",
    "        optimizer.zero_grad()\n",
    "        x = x.to(device)\n",
    "        y = y.type(torch.long).to(device)\n",
    "        out= model(x)\n",
    "        loss = loss_function(out, y)\n",
    "        if loss_all is None:\n",
    "            loss_all = loss\n",
    "        else:\n",
    "            loss_all += loss\n",
    "        loss.backward()\n",
    "        optimizer.step()\n",
    "        st += 1\n",
    "        loss_sum += loss.to(\"cpu\").detach().numpy()\n",
    "\n",
    "    \n",
    "    log_loss.write(\"{}, {}\\n\".format(ture_epoch, loss_sum/st))\n",
    "\n",
    "    name = f\"weights1/{ture_epoch}\"\n",
    "    if (epoch+1) % 1 == 0:\n",
    "        torch.save(model.state_dict(), name+\"_model.pth\")\n",
    "        torch.save(optimizer.state_dict(), name+\"_optimizer.pth\")\n",
    "        # email_remind.send_email(f\"{ture_epoch}轮训练完成\")\n",
    "    # print(\"epoch:{},loss:{}\".format(epoch, loss_sum/st))\n",
    "    log_loss.close()\n",
    "    set_epoch(Epoch_path)  # ture_epoch ++\n",
    "    scheduler.step(loss_all)\n",
    "\n",
    "\n",
    "\n",
    "    if (epoch+1) % 1== 0:\n",
    "        # 评估\n",
    "        ture_epoch = get_epoch(Epoch_path)\n",
    "        if ture_epoch > 0:\n",
    "            model_test.load_state_dict(torch.load(\n",
    "                f'weights1/{ture_epoch-1}_model.pth'))\n",
    "        acc=0\n",
    "        for x, y in test_loader: \n",
    "            out= model_test(x.to(device))\n",
    "            y_pred=out.to(\"cpu\").detach().numpy()\n",
    "            y_true=y.to(\"cpu\").detach().numpy()\n",
    "            ac1=accuracy_score(y_true, y_pred.argmax(axis=-1))\n",
    "            acc+=ac1\n",
    "        acc=acc/test_loader.__len__()\n",
    "        acc_loss = open(\"acc1.csv\", \"a\")\n",
    "        acc_loss.write(\"{}, {}\\n\".format(get_epoch(Epoch_path), acc))\n",
    "        acc_loss.close()\n",
    "#         email_remind.send_email(f\"acc={acc}\")\n",
    "# email_remind.send_email(None)"
   ]
  },
  {
   "cell_type": "code",
   "execution_count": 9,
   "metadata": {},
   "outputs": [
    {
     "name": "stderr",
     "output_type": "stream",
     "text": [
      "c:\\software\\ai\\conda\\envs\\310\\lib\\site-packages\\torchvision\\models\\_utils.py:208: UserWarning: The parameter 'pretrained' is deprecated since 0.13 and may be removed in the future, please use 'weights' instead.\n",
      "  warnings.warn(\n",
      "c:\\software\\ai\\conda\\envs\\310\\lib\\site-packages\\torchvision\\models\\_utils.py:223: UserWarning: Arguments other than a weight enum or `None` for 'weights' are deprecated since 0.13 and may be removed in the future. The current behavior is equivalent to passing `weights=VGG16_Weights.IMAGENET1K_V1`. You can also use `weights=VGG16_Weights.DEFAULT` to get the most up-to-date weights.\n",
      "  warnings.warn(msg)\n",
      "100%|██████████| 79/79 [00:04<00:00, 19.20it/s]\n"
     ]
    },
    {
     "data": {
      "text/plain": [
       "0.38481012658227826"
      ]
     },
     "execution_count": 9,
     "metadata": {},
     "output_type": "execute_result"
    }
   ],
   "source": [
    "from sklearn.metrics import accuracy_score\n",
    "device = torch.device(\"cuda:0\" if torch.cuda.is_available() else \"cpu\")\n",
    "model_test = ImageEmotionModel()\n",
    "\n",
    "# ture_epoch = get_epoch(Epoch_path)\n",
    "# if ture_epoch > 0:\n",
    "#     model_test.load_state_dict(torch.load(\n",
    "#         f'weights/{ture_epoch-1}_model.pth'))\n",
    "\n",
    "model_test.load_state_dict(torch.load(\n",
    "        f'weights1/{80}_model.pth'))\n",
    "\n",
    "model_test.to(device)\n",
    "model_test.eval()\n",
    "acc=0\n",
    "for x, y in tqdm(test_loader): \n",
    "    out= model_test(x.to(device))\n",
    "    y_pred=out.to(\"cpu\").detach().numpy()\n",
    "    y_true=y.to(\"cpu\").detach().numpy()\n",
    "    ac1=accuracy_score(y_true, y_pred.argmax(axis=-1))\n",
    "    acc+=ac1\n",
    "acc/test_loader.__len__()\n"
   ]
  },
  {
   "cell_type": "code",
   "execution_count": 10,
   "metadata": {},
   "outputs": [],
   "source": [
    "l=(\"愤怒\",\"厌恶\",\"恐惧\",\"快乐\",\"悲伤\",\"惊喜\")"
   ]
  }
 ],
 "metadata": {
  "kernelspec": {
   "display_name": "310",
   "language": "python",
   "name": "python3"
  },
  "language_info": {
   "codemirror_mode": {
    "name": "ipython",
    "version": 3
   },
   "file_extension": ".py",
   "mimetype": "text/x-python",
   "name": "python",
   "nbconvert_exporter": "python",
   "pygments_lexer": "ipython3",
   "version": "3.10.13"
  }
 },
 "nbformat": 4,
 "nbformat_minor": 2
}
